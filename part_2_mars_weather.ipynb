{
 "cells": [
  {
   "attachments": {},
   "cell_type": "markdown",
   "metadata": {},
   "source": [
    "# Module 11 Challenge\n",
    "## Deliverable 2: Scrape and Analyze Mars Weather Data"
   ]
  },
  {
   "cell_type": "code",
   "execution_count": 19,
   "metadata": {},
   "outputs": [],
   "source": [
    "# Import relevant libraries\n",
    "from splinter import Browser\n",
    "from bs4 import BeautifulSoup\n",
    "import matplotlib.pyplot as plt\n",
    "import pandas as pd"
   ]
  },
  {
   "cell_type": "code",
   "execution_count": 20,
   "metadata": {},
   "outputs": [],
   "source": [
    "browser = Browser('chrome')"
   ]
  },
  {
   "attachments": {},
   "cell_type": "markdown",
   "metadata": {},
   "source": [
    "### Step 1: Visit the Website\n",
    "\n",
    "Use automated browsing to visit the [Mars Temperature Data Site](https://static.bc-edx.com/data/web/mars_facts/temperature.html). Inspect the page to identify which elements to scrape.\n",
    "\n",
    "   > **Hint** To identify which elements to scrape, you might want to inspect the page by using Chrome DevTools to discover whether the table contains usable classes.\n"
   ]
  },
  {
   "cell_type": "code",
   "execution_count": 21,
   "metadata": {},
   "outputs": [],
   "source": [
    "# Visit the website\n",
    "# https://static.bc-edx.com/data/web/mars_facts/temperature.html\n",
    "url = \"https://static.bc-edx.com/data/web/mars_facts/temperature.html\"\n",
    "browser.visit(url)"
   ]
  },
  {
   "attachments": {},
   "cell_type": "markdown",
   "metadata": {},
   "source": [
    "### Step 2: Scrape the Table\n",
    "\n",
    "Create a Beautiful Soup object and use it to scrape the data in the HTML table.\n",
    "\n",
    "Note that this can also be achieved by using the Pandas `read_html` function. However, use Beautiful Soup here to continue sharpening your web scraping skills."
   ]
  },
  {
   "cell_type": "code",
   "execution_count": 22,
   "metadata": {},
   "outputs": [],
   "source": [
    "# Create a Beautiful Soup Object\n",
    "html=browser.html\n",
    "soup = BeautifulSoup(html,'html.parser')"
   ]
  },
  {
   "cell_type": "code",
   "execution_count": 24,
   "metadata": {},
   "outputs": [],
   "source": [
    "# Extract all rows of data\n",
    "table = soup.find('table')"
   ]
  },
  {
   "attachments": {},
   "cell_type": "markdown",
   "metadata": {},
   "source": [
    "### Step 3: Store the Data\n",
    "\n",
    "Assemble the scraped data into a Pandas DataFrame. The columns should have the same headings as the table on the website. Here’s an explanation of the column headings:\n",
    "\n",
    "* `id`: the identification number of a single transmission from the Curiosity rover\n",
    "* `terrestrial_date`: the date on Earth\n",
    "* `sol`: the number of elapsed sols (Martian days) since Curiosity landed on Mars\n",
    "* `ls`: the solar longitude\n",
    "* `month`: the Martian month\n",
    "* `min_temp`: the minimum temperature, in Celsius, of a single Martian day (sol)\n",
    "* `pressure`: The atmospheric pressure at Curiosity's location"
   ]
  },
  {
   "cell_type": "code",
   "execution_count": 79,
   "metadata": {},
   "outputs": [
    {
     "name": "stdout",
     "output_type": "stream",
     "text": [
      "{'id': '2', 'terrestrial_date': '2012-08-16', 'sol': '10', 'ls': '155', 'month': '6', 'min_temp': '-75.0', 'pressure': '739.0'}\n",
      "{'id': '13', 'terrestrial_date': '2012-08-17', 'sol': '11', 'ls': '156', 'month': '6', 'min_temp': '-76.0', 'pressure': '740.0'}\n",
      "{'id': '24', 'terrestrial_date': '2012-08-18', 'sol': '12', 'ls': '156', 'month': '6', 'min_temp': '-76.0', 'pressure': '741.0'}\n",
      "{'id': '35', 'terrestrial_date': '2012-08-19', 'sol': '13', 'ls': '157', 'month': '6', 'min_temp': '-74.0', 'pressure': '732.0'}\n",
      "{'id': '46', 'terrestrial_date': '2012-08-20', 'sol': '14', 'ls': '157', 'month': '6', 'min_temp': '-74.0', 'pressure': '740.0'}\n",
      "{'id': '57', 'terrestrial_date': '2012-08-21', 'sol': '15', 'ls': '158', 'month': '6', 'min_temp': '-78.0', 'pressure': '740.0'}\n",
      "{'id': '68', 'terrestrial_date': '2012-08-22', 'sol': '16', 'ls': '158', 'month': '6', 'min_temp': '-77.0', 'pressure': '740.0'}\n",
      "{'id': '79', 'terrestrial_date': '2012-08-23', 'sol': '17', 'ls': '159', 'month': '6', 'min_temp': '-76.0', 'pressure': '742.0'}\n",
      "{'id': '112', 'terrestrial_date': '2012-08-27', 'sol': '21', 'ls': '161', 'month': '6', 'min_temp': '-74.0', 'pressure': '741.0'}\n",
      "{'id': '114', 'terrestrial_date': '2012-08-28', 'sol': '22', 'ls': '162', 'month': '6', 'min_temp': '-74.0', 'pressure': '742.0'}\n",
      "{'id': '123', 'terrestrial_date': '2012-08-29', 'sol': '23', 'ls': '162', 'month': '6', 'min_temp': '-75.0', 'pressure': '741.0'}\n",
      "{'id': '134', 'terrestrial_date': '2012-08-30', 'sol': '24', 'ls': '163', 'month': '6', 'min_temp': '-75.0', 'pressure': '742.0'}\n",
      "{'id': '145', 'terrestrial_date': '2012-08-31', 'sol': '25', 'ls': '163', 'month': '6', 'min_temp': '-75.0', 'pressure': '743.0'}\n",
      "{'id': '156', 'terrestrial_date': '2012-09-01', 'sol': '26', 'ls': '164', 'month': '6', 'min_temp': '-76.0', 'pressure': '745.0'}\n",
      "{'id': '163', 'terrestrial_date': '2012-09-02', 'sol': '27', 'ls': '164', 'month': '6', 'min_temp': '-75.0', 'pressure': '743.0'}\n",
      "{'id': '170', 'terrestrial_date': '2012-09-03', 'sol': '28', 'ls': '165', 'month': '6', 'min_temp': '-75.0', 'pressure': '745.0'}\n",
      "{'id': '171', 'terrestrial_date': '2012-09-04', 'sol': '29', 'ls': '166', 'month': '6', 'min_temp': '-75.0', 'pressure': '747.0'}\n",
      "{'id': '172', 'terrestrial_date': '2012-09-05', 'sol': '30', 'ls': '166', 'month': '6', 'min_temp': '-74.0', 'pressure': '747.0'}\n",
      "{'id': '173', 'terrestrial_date': '2012-09-06', 'sol': '31', 'ls': '167', 'month': '6', 'min_temp': '-74.0', 'pressure': '745.0'}\n",
      "{'id': '175', 'terrestrial_date': '2012-09-08', 'sol': '33', 'ls': '168', 'month': '6', 'min_temp': '-73.0', 'pressure': '748.0'}\n",
      "{'id': '176', 'terrestrial_date': '2012-09-10', 'sol': '34', 'ls': '168', 'month': '6', 'min_temp': '-73.0', 'pressure': '748.0'}\n",
      "{'id': '177', 'terrestrial_date': '2012-09-11', 'sol': '35', 'ls': '169', 'month': '6', 'min_temp': '-73.0', 'pressure': '749.0'}\n",
      "{'id': '178', 'terrestrial_date': '2012-09-12', 'sol': '36', 'ls': '169', 'month': '6', 'min_temp': '-73.0', 'pressure': '750.0'}\n",
      "{'id': '179', 'terrestrial_date': '2012-09-13', 'sol': '37', 'ls': '170', 'month': '6', 'min_temp': '-73.0', 'pressure': '750.0'}\n",
      "{'id': '180', 'terrestrial_date': '2012-09-14', 'sol': '38', 'ls': '171', 'month': '6', 'min_temp': '-73.0', 'pressure': '750.0'}\n",
      "{'id': '181', 'terrestrial_date': '2012-09-15', 'sol': '39', 'ls': '171', 'month': '6', 'min_temp': '-75.0', 'pressure': '751.0'}\n",
      "{'id': '182', 'terrestrial_date': '2012-09-16', 'sol': '40', 'ls': '172', 'month': '6', 'min_temp': '-75.0', 'pressure': '753.0'}\n",
      "{'id': '183', 'terrestrial_date': '2012-09-17', 'sol': '41', 'ls': '172', 'month': '6', 'min_temp': '-75.0', 'pressure': '753.0'}\n",
      "{'id': '184', 'terrestrial_date': '2012-09-18', 'sol': '42', 'ls': '173', 'month': '6', 'min_temp': '-75.0', 'pressure': '754.0'}\n",
      "{'id': '185', 'terrestrial_date': '2012-09-19', 'sol': '43', 'ls': '173', 'month': '6', 'min_temp': '-74.0', 'pressure': '756.0'}\n",
      "{'id': '186', 'terrestrial_date': '2012-09-20', 'sol': '44', 'ls': '174', 'month': '6', 'min_temp': '-75.0', 'pressure': '757.0'}\n",
      "{'id': '187', 'terrestrial_date': '2012-09-21', 'sol': '45', 'ls': '175', 'month': '6', 'min_temp': '-74.0', 'pressure': '758.0'}\n",
      "{'id': '188', 'terrestrial_date': '2012-09-22', 'sol': '46', 'ls': '175', 'month': '6', 'min_temp': '-74.0', 'pressure': '758.0'}\n",
      "{'id': '189', 'terrestrial_date': '2012-09-23', 'sol': '47', 'ls': '176', 'month': '6', 'min_temp': '-75.0', 'pressure': '758.0'}\n",
      "{'id': '190', 'terrestrial_date': '2012-09-24', 'sol': '48', 'ls': '176', 'month': '6', 'min_temp': '-75.0', 'pressure': '759.0'}\n",
      "{'id': '191', 'terrestrial_date': '2012-09-25', 'sol': '49', 'ls': '177', 'month': '6', 'min_temp': '-74.0', 'pressure': '761.0'}\n",
      "{'id': '192', 'terrestrial_date': '2012-09-26', 'sol': '50', 'ls': '177', 'month': '6', 'min_temp': '-72.0', 'pressure': '761.0'}\n",
      "{'id': '193', 'terrestrial_date': '2012-09-27', 'sol': '51', 'ls': '178', 'month': '6', 'min_temp': '-76.0', 'pressure': '762.0'}\n",
      "{'id': '194', 'terrestrial_date': '2012-09-28', 'sol': '52', 'ls': '179', 'month': '6', 'min_temp': '-74.0', 'pressure': '762.0'}\n",
      "{'id': '195', 'terrestrial_date': '2012-09-29', 'sol': '53', 'ls': '179', 'month': '6', 'min_temp': '-71.0', 'pressure': '764.0'}\n",
      "{'id': '196', 'terrestrial_date': '2012-09-30', 'sol': '54', 'ls': '180', 'month': '7', 'min_temp': '-72.0', 'pressure': '766.0'}\n",
      "{'id': '197', 'terrestrial_date': '2012-10-01', 'sol': '55', 'ls': '180', 'month': '7', 'min_temp': '-74.0', 'pressure': '766.0'}\n",
      "{'id': '198', 'terrestrial_date': '2012-10-02', 'sol': '56', 'ls': '181', 'month': '7', 'min_temp': '-73.0', 'pressure': '768.0'}\n",
      "{'id': '199', 'terrestrial_date': '2012-10-03', 'sol': '57', 'ls': '181', 'month': '7', 'min_temp': '-73.0', 'pressure': '769.0'}\n",
      "{'id': '200', 'terrestrial_date': '2012-10-04', 'sol': '58', 'ls': '182', 'month': '7', 'min_temp': '-74.0', 'pressure': '769.0'}\n",
      "{'id': '201', 'terrestrial_date': '2012-10-05', 'sol': '59', 'ls': '183', 'month': '7', 'min_temp': '-76.0', 'pressure': '771.0'}\n",
      "{'id': '202', 'terrestrial_date': '2012-10-06', 'sol': '60', 'ls': '183', 'month': '7', 'min_temp': '-75.0', 'pressure': '772.0'}\n",
      "{'id': '203', 'terrestrial_date': '2012-10-07', 'sol': '61', 'ls': '184', 'month': '7', 'min_temp': '-72.0', 'pressure': '772.0'}\n",
      "{'id': '204', 'terrestrial_date': '2012-10-08', 'sol': '62', 'ls': '184', 'month': '7', 'min_temp': '-72.0', 'pressure': '774.0'}\n",
      "{'id': '205', 'terrestrial_date': '2012-10-09', 'sol': '63', 'ls': '185', 'month': '7', 'min_temp': '-73.0', 'pressure': '775.0'}\n",
      "{'id': '206', 'terrestrial_date': '2012-10-10', 'sol': '64', 'ls': '186', 'month': '7', 'min_temp': '-74.0', 'pressure': '776.0'}\n",
      "{'id': '207', 'terrestrial_date': '2012-10-11', 'sol': '65', 'ls': '186', 'month': '7', 'min_temp': '-72.0', 'pressure': '777.0'}\n",
      "{'id': '208', 'terrestrial_date': '2012-10-12', 'sol': '66', 'ls': '187', 'month': '7', 'min_temp': '-73.0', 'pressure': '778.0'}\n",
      "{'id': '209', 'terrestrial_date': '2012-10-13', 'sol': '67', 'ls': '187', 'month': '7', 'min_temp': '-73.0', 'pressure': '780.0'}\n",
      "{'id': '210', 'terrestrial_date': '2012-10-14', 'sol': '68', 'ls': '188', 'month': '7', 'min_temp': '-71.0', 'pressure': '781.0'}\n",
      "{'id': '211', 'terrestrial_date': '2012-10-15', 'sol': '69', 'ls': '189', 'month': '7', 'min_temp': '-73.0', 'pressure': '778.0'}\n",
      "{'id': '212', 'terrestrial_date': '2012-10-17', 'sol': '70', 'ls': '189', 'month': '7', 'min_temp': '-72.0', 'pressure': '783.0'}\n",
      "{'id': '213', 'terrestrial_date': '2012-10-18', 'sol': '71', 'ls': '190', 'month': '7', 'min_temp': '-71.0', 'pressure': '784.0'}\n",
      "{'id': '214', 'terrestrial_date': '2012-10-19', 'sol': '72', 'ls': '190', 'month': '7', 'min_temp': '-73.0', 'pressure': '785.0'}\n",
      "{'id': '215', 'terrestrial_date': '2012-10-20', 'sol': '73', 'ls': '191', 'month': '7', 'min_temp': '-70.0', 'pressure': '788.0'}\n",
      "{'id': '216', 'terrestrial_date': '2012-10-21', 'sol': '74', 'ls': '192', 'month': '7', 'min_temp': '-72.0', 'pressure': '790.0'}\n",
      "{'id': '217', 'terrestrial_date': '2012-10-22', 'sol': '75', 'ls': '192', 'month': '7', 'min_temp': '-73.0', 'pressure': '791.0'}\n",
      "{'id': '218', 'terrestrial_date': '2012-10-23', 'sol': '76', 'ls': '193', 'month': '7', 'min_temp': '-73.0', 'pressure': '792.0'}\n",
      "{'id': '219', 'terrestrial_date': '2012-10-24', 'sol': '77', 'ls': '193', 'month': '7', 'min_temp': '-71.0', 'pressure': '792.0'}\n",
      "{'id': '220', 'terrestrial_date': '2012-10-25', 'sol': '78', 'ls': '194', 'month': '7', 'min_temp': '-71.0', 'pressure': '793.0'}\n",
      "{'id': '221', 'terrestrial_date': '2012-10-26', 'sol': '79', 'ls': '195', 'month': '7', 'min_temp': '-73.0', 'pressure': '795.0'}\n",
      "{'id': '222', 'terrestrial_date': '2012-10-27', 'sol': '80', 'ls': '195', 'month': '7', 'min_temp': '-70.0', 'pressure': '796.0'}\n",
      "{'id': '223', 'terrestrial_date': '2012-10-28', 'sol': '81', 'ls': '196', 'month': '7', 'min_temp': '-72.0', 'pressure': '798.0'}\n",
      "{'id': '224', 'terrestrial_date': '2012-10-29', 'sol': '82', 'ls': '196', 'month': '7', 'min_temp': '-72.0', 'pressure': '799.0'}\n",
      "{'id': '225', 'terrestrial_date': '2012-10-30', 'sol': '83', 'ls': '197', 'month': '7', 'min_temp': '-72.0', 'pressure': '801.0'}\n",
      "{'id': '226', 'terrestrial_date': '2012-10-31', 'sol': '84', 'ls': '198', 'month': '7', 'min_temp': '-70.0', 'pressure': '801.0'}\n",
      "{'id': '227', 'terrestrial_date': '2012-11-01', 'sol': '85', 'ls': '198', 'month': '7', 'min_temp': '-71.0', 'pressure': '805.0'}\n",
      "{'id': '228', 'terrestrial_date': '2012-11-02', 'sol': '86', 'ls': '199', 'month': '7', 'min_temp': '-71.0', 'pressure': '808.0'}\n",
      "{'id': '229', 'terrestrial_date': '2012-11-03', 'sol': '87', 'ls': '199', 'month': '7', 'min_temp': '-70.0', 'pressure': '808.0'}\n",
      "{'id': '230', 'terrestrial_date': '2012-11-04', 'sol': '88', 'ls': '200', 'month': '7', 'min_temp': '-70.0', 'pressure': '811.0'}\n",
      "{'id': '231', 'terrestrial_date': '2012-11-05', 'sol': '89', 'ls': '201', 'month': '7', 'min_temp': '-73.0', 'pressure': '813.0'}\n",
      "{'id': '233', 'terrestrial_date': '2012-11-06', 'sol': '90', 'ls': '201', 'month': '7', 'min_temp': '-71.0', 'pressure': '813.0'}\n",
      "{'id': '234', 'terrestrial_date': '2012-11-07', 'sol': '91', 'ls': '202', 'month': '7', 'min_temp': '-74.0', 'pressure': '817.0'}\n",
      "{'id': '235', 'terrestrial_date': '2012-11-08', 'sol': '92', 'ls': '202', 'month': '7', 'min_temp': '-74.0', 'pressure': '820.0'}\n",
      "{'id': '236', 'terrestrial_date': '2012-11-09', 'sol': '93', 'ls': '203', 'month': '7', 'min_temp': '-72.0', 'pressure': '819.0'}\n",
      "{'id': '237', 'terrestrial_date': '2012-11-10', 'sol': '94', 'ls': '204', 'month': '7', 'min_temp': '-70.0', 'pressure': '822.0'}\n",
      "{'id': '238', 'terrestrial_date': '2012-11-11', 'sol': '95', 'ls': '204', 'month': '7', 'min_temp': '-68.0', 'pressure': '822.0'}\n",
      "{'id': '239', 'terrestrial_date': '2012-11-12', 'sol': '96', 'ls': '205', 'month': '7', 'min_temp': '-71.0', 'pressure': '826.0'}\n",
      "{'id': '240', 'terrestrial_date': '2012-11-13', 'sol': '97', 'ls': '206', 'month': '7', 'min_temp': '-68.0', 'pressure': '828.0'}\n",
      "{'id': '241', 'terrestrial_date': '2012-11-14', 'sol': '98', 'ls': '206', 'month': '7', 'min_temp': '-68.0', 'pressure': '828.0'}\n",
      "{'id': '242', 'terrestrial_date': '2012-11-15', 'sol': '99', 'ls': '207', 'month': '7', 'min_temp': '-68.0', 'pressure': '829.0'}\n",
      "{'id': '3', 'terrestrial_date': '2012-11-16', 'sol': '100', 'ls': '207', 'month': '7', 'min_temp': '-66.0', 'pressure': '829.0'}\n",
      "{'id': '4', 'terrestrial_date': '2012-11-17', 'sol': '101', 'ls': '208', 'month': '7', 'min_temp': '-65.0', 'pressure': '830.0'}\n",
      "{'id': '5', 'terrestrial_date': '2012-11-18', 'sol': '102', 'ls': '209', 'month': '7', 'min_temp': '-67.0', 'pressure': '833.0'}\n",
      "{'id': '6', 'terrestrial_date': '2012-11-19', 'sol': '103', 'ls': '209', 'month': '7', 'min_temp': '-66.0', 'pressure': '836.0'}\n",
      "{'id': '7', 'terrestrial_date': '2012-11-20', 'sol': '104', 'ls': '210', 'month': '8', 'min_temp': '-67.0', 'pressure': '838.0'}\n",
      "{'id': '8', 'terrestrial_date': '2012-11-21', 'sol': '105', 'ls': '211', 'month': '8', 'min_temp': '-66.0', 'pressure': '839.0'}\n",
      "{'id': '9', 'terrestrial_date': '2012-11-23', 'sol': '106', 'ls': '211', 'month': '8', 'min_temp': '-66.0', 'pressure': '841.0'}\n",
      "{'id': '10', 'terrestrial_date': '2012-11-24', 'sol': '107', 'ls': '212', 'month': '8', 'min_temp': '-66.0', 'pressure': '844.0'}\n",
      "{'id': '11', 'terrestrial_date': '2012-11-25', 'sol': '108', 'ls': '212', 'month': '8', 'min_temp': '-65.0', 'pressure': '845.0'}\n",
      "{'id': '12', 'terrestrial_date': '2012-11-26', 'sol': '109', 'ls': '213', 'month': '8', 'min_temp': '-64.0', 'pressure': '844.0'}\n",
      "{'id': '14', 'terrestrial_date': '2012-11-27', 'sol': '110', 'ls': '214', 'month': '8', 'min_temp': '-65.0', 'pressure': '848.0'}\n",
      "{'id': '15', 'terrestrial_date': '2012-11-28', 'sol': '111', 'ls': '214', 'month': '8', 'min_temp': '-66.0', 'pressure': '849.0'}\n",
      "{'id': '16', 'terrestrial_date': '2012-11-29', 'sol': '112', 'ls': '215', 'month': '8', 'min_temp': '-65.0', 'pressure': '852.0'}\n",
      "{'id': '17', 'terrestrial_date': '2012-11-30', 'sol': '113', 'ls': '216', 'month': '8', 'min_temp': '-66.0', 'pressure': '857.0'}\n"
     ]
    }
   ],
   "source": [
    "# Initialize a list to hold the data\n",
    "data_list = []\n",
    "\n",
    "# Loop through each row in the table\n",
    "for row in table.find_all('tr', class_='data-row'):\n",
    "    # Extract the data from each 'td' in the row\n",
    "    columns = row.find_all('td')\n",
    "    \n",
    "    # Ensure that we have exactly 7 columns\n",
    "    if len(columns) == 7:\n",
    "        # Create a dictionary for the row data with specified keys\n",
    "        row_data = {\n",
    "            'id': columns[0].text,\n",
    "            'terrestrial_date': columns[1].text,\n",
    "            'sol': columns[2].text,\n",
    "            'ls': columns[3].text,\n",
    "            'month': columns[4].text,\n",
    "            'min_temp': columns[5].text,\n",
    "            'pressure': columns[6].text\n",
    "        }\n",
    "        # Append the row data to the data_list\n",
    "        data_list.append(row_data)\n",
    "\n",
    "# Print the result\n",
    "for item in data_list[:100]:\n",
    "    print(item)"
   ]
  },
  {
   "cell_type": "code",
   "execution_count": 28,
   "metadata": {},
   "outputs": [],
   "source": [
    "# Create a Pandas DataFrame by using the list of rows and a list of the column names\n",
    "Mars_df = pd.DataFrame(data_list)"
   ]
  },
  {
   "cell_type": "code",
   "execution_count": 29,
   "metadata": {},
   "outputs": [
    {
     "data": {
      "text/html": [
       "<div>\n",
       "<style scoped>\n",
       "    .dataframe tbody tr th:only-of-type {\n",
       "        vertical-align: middle;\n",
       "    }\n",
       "\n",
       "    .dataframe tbody tr th {\n",
       "        vertical-align: top;\n",
       "    }\n",
       "\n",
       "    .dataframe thead th {\n",
       "        text-align: right;\n",
       "    }\n",
       "</style>\n",
       "<table border=\"1\" class=\"dataframe\">\n",
       "  <thead>\n",
       "    <tr style=\"text-align: right;\">\n",
       "      <th></th>\n",
       "      <th>id</th>\n",
       "      <th>terrestrial_date</th>\n",
       "      <th>sol</th>\n",
       "      <th>ls</th>\n",
       "      <th>month</th>\n",
       "      <th>min_temp</th>\n",
       "      <th>pressure</th>\n",
       "    </tr>\n",
       "  </thead>\n",
       "  <tbody>\n",
       "    <tr>\n",
       "      <th>0</th>\n",
       "      <td>2</td>\n",
       "      <td>2012-08-16</td>\n",
       "      <td>10</td>\n",
       "      <td>155</td>\n",
       "      <td>6</td>\n",
       "      <td>-75.0</td>\n",
       "      <td>739.0</td>\n",
       "    </tr>\n",
       "    <tr>\n",
       "      <th>1</th>\n",
       "      <td>13</td>\n",
       "      <td>2012-08-17</td>\n",
       "      <td>11</td>\n",
       "      <td>156</td>\n",
       "      <td>6</td>\n",
       "      <td>-76.0</td>\n",
       "      <td>740.0</td>\n",
       "    </tr>\n",
       "    <tr>\n",
       "      <th>2</th>\n",
       "      <td>24</td>\n",
       "      <td>2012-08-18</td>\n",
       "      <td>12</td>\n",
       "      <td>156</td>\n",
       "      <td>6</td>\n",
       "      <td>-76.0</td>\n",
       "      <td>741.0</td>\n",
       "    </tr>\n",
       "    <tr>\n",
       "      <th>3</th>\n",
       "      <td>35</td>\n",
       "      <td>2012-08-19</td>\n",
       "      <td>13</td>\n",
       "      <td>157</td>\n",
       "      <td>6</td>\n",
       "      <td>-74.0</td>\n",
       "      <td>732.0</td>\n",
       "    </tr>\n",
       "    <tr>\n",
       "      <th>4</th>\n",
       "      <td>46</td>\n",
       "      <td>2012-08-20</td>\n",
       "      <td>14</td>\n",
       "      <td>157</td>\n",
       "      <td>6</td>\n",
       "      <td>-74.0</td>\n",
       "      <td>740.0</td>\n",
       "    </tr>\n",
       "    <tr>\n",
       "      <th>...</th>\n",
       "      <td>...</td>\n",
       "      <td>...</td>\n",
       "      <td>...</td>\n",
       "      <td>...</td>\n",
       "      <td>...</td>\n",
       "      <td>...</td>\n",
       "      <td>...</td>\n",
       "    </tr>\n",
       "    <tr>\n",
       "      <th>1862</th>\n",
       "      <td>1889</td>\n",
       "      <td>2018-02-23</td>\n",
       "      <td>1973</td>\n",
       "      <td>133</td>\n",
       "      <td>5</td>\n",
       "      <td>-78.0</td>\n",
       "      <td>730.0</td>\n",
       "    </tr>\n",
       "    <tr>\n",
       "      <th>1863</th>\n",
       "      <td>1892</td>\n",
       "      <td>2018-02-24</td>\n",
       "      <td>1974</td>\n",
       "      <td>134</td>\n",
       "      <td>5</td>\n",
       "      <td>-77.0</td>\n",
       "      <td>729.0</td>\n",
       "    </tr>\n",
       "    <tr>\n",
       "      <th>1864</th>\n",
       "      <td>1894</td>\n",
       "      <td>2018-02-25</td>\n",
       "      <td>1975</td>\n",
       "      <td>134</td>\n",
       "      <td>5</td>\n",
       "      <td>-76.0</td>\n",
       "      <td>729.0</td>\n",
       "    </tr>\n",
       "    <tr>\n",
       "      <th>1865</th>\n",
       "      <td>1893</td>\n",
       "      <td>2018-02-26</td>\n",
       "      <td>1976</td>\n",
       "      <td>135</td>\n",
       "      <td>5</td>\n",
       "      <td>-77.0</td>\n",
       "      <td>728.0</td>\n",
       "    </tr>\n",
       "    <tr>\n",
       "      <th>1866</th>\n",
       "      <td>1895</td>\n",
       "      <td>2018-02-27</td>\n",
       "      <td>1977</td>\n",
       "      <td>135</td>\n",
       "      <td>5</td>\n",
       "      <td>-77.0</td>\n",
       "      <td>727.0</td>\n",
       "    </tr>\n",
       "  </tbody>\n",
       "</table>\n",
       "<p>1867 rows × 7 columns</p>\n",
       "</div>"
      ],
      "text/plain": [
       "        id terrestrial_date   sol   ls month min_temp pressure\n",
       "0        2       2012-08-16    10  155     6    -75.0    739.0\n",
       "1       13       2012-08-17    11  156     6    -76.0    740.0\n",
       "2       24       2012-08-18    12  156     6    -76.0    741.0\n",
       "3       35       2012-08-19    13  157     6    -74.0    732.0\n",
       "4       46       2012-08-20    14  157     6    -74.0    740.0\n",
       "...    ...              ...   ...  ...   ...      ...      ...\n",
       "1862  1889       2018-02-23  1973  133     5    -78.0    730.0\n",
       "1863  1892       2018-02-24  1974  134     5    -77.0    729.0\n",
       "1864  1894       2018-02-25  1975  134     5    -76.0    729.0\n",
       "1865  1893       2018-02-26  1976  135     5    -77.0    728.0\n",
       "1866  1895       2018-02-27  1977  135     5    -77.0    727.0\n",
       "\n",
       "[1867 rows x 7 columns]"
      ]
     },
     "execution_count": 29,
     "metadata": {},
     "output_type": "execute_result"
    }
   ],
   "source": [
    "# Confirm DataFrame was created successfully\n",
    "Mars_df"
   ]
  },
  {
   "attachments": {},
   "cell_type": "markdown",
   "metadata": {},
   "source": [
    "### Step 4: Prepare Data for Analysis\n",
    "\n",
    "Examine the data types that are currently associated with each column. If necessary, cast (or convert) the data to the appropriate `datetime`, `int`, or `float` data types.\n",
    "\n",
    "  > **Hint** You can use the Pandas `astype` and `to_datetime` methods to accomplish this task.\n"
   ]
  },
  {
   "cell_type": "code",
   "execution_count": 30,
   "metadata": {},
   "outputs": [
    {
     "name": "stdout",
     "output_type": "stream",
     "text": [
      "id                  object\n",
      "terrestrial_date    object\n",
      "sol                 object\n",
      "ls                  object\n",
      "month               object\n",
      "min_temp            object\n",
      "pressure            object\n",
      "dtype: object\n"
     ]
    }
   ],
   "source": [
    "# Examine data type of each column\n",
    "print(Mars_df.dtypes)\n"
   ]
  },
  {
   "cell_type": "code",
   "execution_count": 33,
   "metadata": {},
   "outputs": [],
   "source": [
    "# Change data types for data analysis\n",
    "Mars_df['terrestrial_date']=pd.to_datetime(Mars_df['terrestrial_date'])\n",
    "Mars_df['sol']=Mars_df['sol'].astype('int32')\n",
    "Mars_df['ls']=Mars_df['ls'].astype('int32')\n",
    "Mars_df['month']=Mars_df['month'].astype('int32')\n",
    "Mars_df['min_temp']=Mars_df['min_temp'].astype('float64')\n",
    "Mars_df['pressure']=Mars_df['pressure'].astype('float64')"
   ]
  },
  {
   "cell_type": "code",
   "execution_count": 34,
   "metadata": {},
   "outputs": [
    {
     "name": "stdout",
     "output_type": "stream",
     "text": [
      "id                          object\n",
      "terrestrial_date    datetime64[ns]\n",
      "sol                          int32\n",
      "ls                           int32\n",
      "month                        int32\n",
      "min_temp                   float64\n",
      "pressure                   float64\n",
      "dtype: object\n"
     ]
    }
   ],
   "source": [
    "# Confirm type changes were successful by examining data types again\n",
    "print(Mars_df.dtypes)"
   ]
  },
  {
   "attachments": {},
   "cell_type": "markdown",
   "metadata": {},
   "source": [
    "### Step 5: Analyze the Data\n",
    "\n",
    "Analyze your dataset by using Pandas functions to answer the following questions:\n",
    "\n",
    "1. How many months exist on Mars?\n",
    "2. How many Martian (and not Earth) days worth of data exist in the scraped dataset?\n",
    "3. What are the coldest and the warmest months on Mars (at the location of Curiosity)? To answer this question:\n",
    "    * Find the average the minimum daily temperature for all of the months.\n",
    "    * Plot the results as a bar chart.\n",
    "4. Which months have the lowest and the highest atmospheric pressure on Mars? To answer this question:\n",
    "    * Find the average the daily atmospheric pressure of all the months.\n",
    "    * Plot the results as a bar chart.\n",
    "5. About how many terrestrial (Earth) days exist in a Martian year? To answer this question:\n",
    "    * Consider how many days elapse on Earth in the time that Mars circles the Sun once.\n",
    "    * Visually estimate the result by plotting the daily minimum temperature.\n"
   ]
  },
  {
   "cell_type": "code",
   "execution_count": 35,
   "metadata": {},
   "outputs": [
    {
     "data": {
      "text/plain": [
       "12"
      ]
     },
     "execution_count": 35,
     "metadata": {},
     "output_type": "execute_result"
    }
   ],
   "source": [
    "# 1. How many months are there on Mars?\n",
    "months=Mars_df['month'].nunique()\n",
    "months"
   ]
  },
  {
   "cell_type": "code",
   "execution_count": 36,
   "metadata": {},
   "outputs": [
    {
     "data": {
      "text/plain": [
       "1867"
      ]
     },
     "execution_count": 36,
     "metadata": {},
     "output_type": "execute_result"
    }
   ],
   "source": [
    "# 2. How many sols (Martian days) worth of data are there?\n",
    "sols= Mars_df['sol'].nunique()\n",
    "sols"
   ]
  },
  {
   "cell_type": "code",
   "execution_count": 49,
   "metadata": {},
   "outputs": [
    {
     "data": {
      "text/plain": [
       "month\n",
       "1    -77.160920\n",
       "2    -79.932584\n",
       "3    -83.307292\n",
       "4    -82.747423\n",
       "5    -79.308725\n",
       "6    -75.299320\n",
       "7    -72.281690\n",
       "8    -68.382979\n",
       "9    -69.171642\n",
       "10   -71.982143\n",
       "11   -71.985507\n",
       "12   -74.451807\n",
       "Name: min_temp, dtype: float64"
      ]
     },
     "execution_count": 49,
     "metadata": {},
     "output_type": "execute_result"
    }
   ],
   "source": [
    "# 3. What is the average minimum temperature by month?\n",
    "avg_by_month=Mars_df.groupby('month')['min_temp'].mean()\n",
    "avg_by_month"
   ]
  },
  {
   "cell_type": "code",
   "execution_count": 52,
   "metadata": {},
   "outputs": [
    {
     "data": {
      "text/html": [
       "<div>\n",
       "<style scoped>\n",
       "    .dataframe tbody tr th:only-of-type {\n",
       "        vertical-align: middle;\n",
       "    }\n",
       "\n",
       "    .dataframe tbody tr th {\n",
       "        vertical-align: top;\n",
       "    }\n",
       "\n",
       "    .dataframe thead th {\n",
       "        text-align: right;\n",
       "    }\n",
       "</style>\n",
       "<table border=\"1\" class=\"dataframe\">\n",
       "  <thead>\n",
       "    <tr style=\"text-align: right;\">\n",
       "      <th></th>\n",
       "      <th>min_temp</th>\n",
       "      <th>month</th>\n",
       "    </tr>\n",
       "    <tr>\n",
       "      <th>month</th>\n",
       "      <th></th>\n",
       "      <th></th>\n",
       "    </tr>\n",
       "  </thead>\n",
       "  <tbody>\n",
       "    <tr>\n",
       "      <th>1</th>\n",
       "      <td>-77.160920</td>\n",
       "      <td>1</td>\n",
       "    </tr>\n",
       "    <tr>\n",
       "      <th>2</th>\n",
       "      <td>-79.932584</td>\n",
       "      <td>2</td>\n",
       "    </tr>\n",
       "    <tr>\n",
       "      <th>3</th>\n",
       "      <td>-83.307292</td>\n",
       "      <td>3</td>\n",
       "    </tr>\n",
       "    <tr>\n",
       "      <th>4</th>\n",
       "      <td>-82.747423</td>\n",
       "      <td>4</td>\n",
       "    </tr>\n",
       "    <tr>\n",
       "      <th>5</th>\n",
       "      <td>-79.308725</td>\n",
       "      <td>5</td>\n",
       "    </tr>\n",
       "    <tr>\n",
       "      <th>6</th>\n",
       "      <td>-75.299320</td>\n",
       "      <td>6</td>\n",
       "    </tr>\n",
       "    <tr>\n",
       "      <th>7</th>\n",
       "      <td>-72.281690</td>\n",
       "      <td>7</td>\n",
       "    </tr>\n",
       "    <tr>\n",
       "      <th>8</th>\n",
       "      <td>-68.382979</td>\n",
       "      <td>8</td>\n",
       "    </tr>\n",
       "    <tr>\n",
       "      <th>9</th>\n",
       "      <td>-69.171642</td>\n",
       "      <td>9</td>\n",
       "    </tr>\n",
       "    <tr>\n",
       "      <th>10</th>\n",
       "      <td>-71.982143</td>\n",
       "      <td>10</td>\n",
       "    </tr>\n",
       "    <tr>\n",
       "      <th>11</th>\n",
       "      <td>-71.985507</td>\n",
       "      <td>11</td>\n",
       "    </tr>\n",
       "    <tr>\n",
       "      <th>12</th>\n",
       "      <td>-74.451807</td>\n",
       "      <td>12</td>\n",
       "    </tr>\n",
       "  </tbody>\n",
       "</table>\n",
       "</div>"
      ],
      "text/plain": [
       "        min_temp  month\n",
       "month                  \n",
       "1     -77.160920      1\n",
       "2     -79.932584      2\n",
       "3     -83.307292      3\n",
       "4     -82.747423      4\n",
       "5     -79.308725      5\n",
       "6     -75.299320      6\n",
       "7     -72.281690      7\n",
       "8     -68.382979      8\n",
       "9     -69.171642      9\n",
       "10    -71.982143     10\n",
       "11    -71.985507     11\n",
       "12    -74.451807     12"
      ]
     },
     "execution_count": 52,
     "metadata": {},
     "output_type": "execute_result"
    }
   ],
   "source": [
    "avg_by_month=pd.DataFrame(avg_by_month)\n",
    "avg_by_month['month'] = range(1, len(avg_by_month) +1)\n",
    "avg_by_month"
   ]
  },
  {
   "cell_type": "code",
   "execution_count": 55,
   "metadata": {},
   "outputs": [
    {
     "data": {
      "image/png": "[encoded data removed]",
      "text/plain": [
       "<Figure size 640x480 with 1 Axes>"
      ]
     },
     "metadata": {},
     "output_type": "display_data"
    }
   ],
   "source": [
    "# Plot the average minimum temperature by month\n",
    "plt.bar(avg_by_month['month'], avg_by_month['min_temp'], color = 'blue', alpha = 0.3)\n",
    "# Add titles and labels\n",
    "plt.title('Average Minimum Temperature by Month')\n",
    "plt.xlabel('month')\n",
    "plt.ylabel('Temperatue in Celsius')\n",
    "\n",
    "# Show the chart\n",
    "plt.show()"
   ]
  },
  {
   "cell_type": "code",
   "execution_count": 65,
   "metadata": {},
   "outputs": [
    {
     "data": {
      "text/html": [
       "<div>\n",
       "<style scoped>\n",
       "    .dataframe tbody tr th:only-of-type {\n",
       "        vertical-align: middle;\n",
       "    }\n",
       "\n",
       "    .dataframe tbody tr th {\n",
       "        vertical-align: top;\n",
       "    }\n",
       "\n",
       "    .dataframe thead th {\n",
       "        text-align: right;\n",
       "    }\n",
       "</style>\n",
       "<table border=\"1\" class=\"dataframe\">\n",
       "  <thead>\n",
       "    <tr style=\"text-align: right;\">\n",
       "      <th></th>\n",
       "      <th>min_temp</th>\n",
       "      <th>month</th>\n",
       "    </tr>\n",
       "    <tr>\n",
       "      <th>month</th>\n",
       "      <th></th>\n",
       "      <th></th>\n",
       "    </tr>\n",
       "  </thead>\n",
       "  <tbody>\n",
       "    <tr>\n",
       "      <th>3</th>\n",
       "      <td>-83.307292</td>\n",
       "      <td>3</td>\n",
       "    </tr>\n",
       "    <tr>\n",
       "      <th>4</th>\n",
       "      <td>-82.747423</td>\n",
       "      <td>4</td>\n",
       "    </tr>\n",
       "    <tr>\n",
       "      <th>2</th>\n",
       "      <td>-79.932584</td>\n",
       "      <td>2</td>\n",
       "    </tr>\n",
       "    <tr>\n",
       "      <th>5</th>\n",
       "      <td>-79.308725</td>\n",
       "      <td>5</td>\n",
       "    </tr>\n",
       "    <tr>\n",
       "      <th>1</th>\n",
       "      <td>-77.160920</td>\n",
       "      <td>1</td>\n",
       "    </tr>\n",
       "    <tr>\n",
       "      <th>6</th>\n",
       "      <td>-75.299320</td>\n",
       "      <td>6</td>\n",
       "    </tr>\n",
       "    <tr>\n",
       "      <th>12</th>\n",
       "      <td>-74.451807</td>\n",
       "      <td>12</td>\n",
       "    </tr>\n",
       "    <tr>\n",
       "      <th>7</th>\n",
       "      <td>-72.281690</td>\n",
       "      <td>7</td>\n",
       "    </tr>\n",
       "    <tr>\n",
       "      <th>11</th>\n",
       "      <td>-71.985507</td>\n",
       "      <td>11</td>\n",
       "    </tr>\n",
       "    <tr>\n",
       "      <th>10</th>\n",
       "      <td>-71.982143</td>\n",
       "      <td>10</td>\n",
       "    </tr>\n",
       "    <tr>\n",
       "      <th>9</th>\n",
       "      <td>-69.171642</td>\n",
       "      <td>9</td>\n",
       "    </tr>\n",
       "    <tr>\n",
       "      <th>8</th>\n",
       "      <td>-68.382979</td>\n",
       "      <td>8</td>\n",
       "    </tr>\n",
       "  </tbody>\n",
       "</table>\n",
       "</div>"
      ],
      "text/plain": [
       "        min_temp month\n",
       "month                 \n",
       "3     -83.307292     3\n",
       "4     -82.747423     4\n",
       "2     -79.932584     2\n",
       "5     -79.308725     5\n",
       "1     -77.160920     1\n",
       "6     -75.299320     6\n",
       "12    -74.451807    12\n",
       "7     -72.281690     7\n",
       "11    -71.985507    11\n",
       "10    -71.982143    10\n",
       "9     -69.171642     9\n",
       "8     -68.382979     8"
      ]
     },
     "execution_count": 65,
     "metadata": {},
     "output_type": "execute_result"
    }
   ],
   "source": [
    "# Identify the coldest and hottest months in Curiosity's location by sorting the previous graph\n",
    "sorted_df = avg_by_month.sort_values(by='min_temp')\n",
    "sorted_df['month']=sorted_df['month'].astype('string')\n",
    "sorted_df\n"
   ]
  },
  {
   "cell_type": "code",
   "execution_count": 66,
   "metadata": {},
   "outputs": [
    {
     "data": {
      "image/png": "[encoded data removed]",
      "text/plain": [
       "<Figure size 640x480 with 1 Axes>"
      ]
     },
     "metadata": {},
     "output_type": "display_data"
    }
   ],
   "source": [
    "# Plot the average minimum temperature by month\n",
    "plt.bar(sorted_df['month'], sorted_df['min_temp'], color = 'blue', alpha = 0.3)\n",
    "# Add titles and labels\n",
    "plt.title('Average Minimum Temperature by Month')\n",
    "plt.xlabel('month')\n",
    "plt.ylabel('Temperatue in Celsius')\n",
    "\n",
    "# Show the chart\n",
    "plt.show()"
   ]
  },
  {
   "cell_type": "code",
   "execution_count": 67,
   "metadata": {},
   "outputs": [
    {
     "data": {
      "text/plain": [
       "month\n",
       "1     862.488506\n",
       "2     889.455056\n",
       "3     877.322917\n",
       "4     806.329897\n",
       "5     748.557047\n",
       "6     745.054422\n",
       "7     795.105634\n",
       "8     873.829787\n",
       "9     913.305970\n",
       "10    887.312500\n",
       "11    857.014493\n",
       "12    842.156627\n",
       "Name: pressure, dtype: float64"
      ]
     },
     "execution_count": 67,
     "metadata": {},
     "output_type": "execute_result"
    }
   ],
   "source": [
    "# 4. What is the average pressure by month?\n",
    "avg_press_by_month=Mars_df.groupby('month')['pressure'].mean()\n",
    "avg_press_by_month"
   ]
  },
  {
   "cell_type": "code",
   "execution_count": null,
   "metadata": {},
   "outputs": [],
   "source": []
  },
  {
   "cell_type": "code",
   "execution_count": null,
   "metadata": {},
   "outputs": [],
   "source": []
  },
  {
   "cell_type": "code",
   "execution_count": 70,
   "metadata": {},
   "outputs": [
    {
     "data": {
      "text/html": [
       "<div>\n",
       "<style scoped>\n",
       "    .dataframe tbody tr th:only-of-type {\n",
       "        vertical-align: middle;\n",
       "    }\n",
       "\n",
       "    .dataframe tbody tr th {\n",
       "        vertical-align: top;\n",
       "    }\n",
       "\n",
       "    .dataframe thead th {\n",
       "        text-align: right;\n",
       "    }\n",
       "</style>\n",
       "<table border=\"1\" class=\"dataframe\">\n",
       "  <thead>\n",
       "    <tr style=\"text-align: right;\">\n",
       "      <th></th>\n",
       "      <th>pressure</th>\n",
       "      <th>month</th>\n",
       "    </tr>\n",
       "    <tr>\n",
       "      <th>month</th>\n",
       "      <th></th>\n",
       "      <th></th>\n",
       "    </tr>\n",
       "  </thead>\n",
       "  <tbody>\n",
       "    <tr>\n",
       "      <th>1</th>\n",
       "      <td>862.488506</td>\n",
       "      <td>1</td>\n",
       "    </tr>\n",
       "    <tr>\n",
       "      <th>2</th>\n",
       "      <td>889.455056</td>\n",
       "      <td>2</td>\n",
       "    </tr>\n",
       "    <tr>\n",
       "      <th>3</th>\n",
       "      <td>877.322917</td>\n",
       "      <td>3</td>\n",
       "    </tr>\n",
       "    <tr>\n",
       "      <th>4</th>\n",
       "      <td>806.329897</td>\n",
       "      <td>4</td>\n",
       "    </tr>\n",
       "    <tr>\n",
       "      <th>5</th>\n",
       "      <td>748.557047</td>\n",
       "      <td>5</td>\n",
       "    </tr>\n",
       "    <tr>\n",
       "      <th>6</th>\n",
       "      <td>745.054422</td>\n",
       "      <td>6</td>\n",
       "    </tr>\n",
       "    <tr>\n",
       "      <th>7</th>\n",
       "      <td>795.105634</td>\n",
       "      <td>7</td>\n",
       "    </tr>\n",
       "    <tr>\n",
       "      <th>8</th>\n",
       "      <td>873.829787</td>\n",
       "      <td>8</td>\n",
       "    </tr>\n",
       "    <tr>\n",
       "      <th>9</th>\n",
       "      <td>913.305970</td>\n",
       "      <td>9</td>\n",
       "    </tr>\n",
       "    <tr>\n",
       "      <th>10</th>\n",
       "      <td>887.312500</td>\n",
       "      <td>10</td>\n",
       "    </tr>\n",
       "    <tr>\n",
       "      <th>11</th>\n",
       "      <td>857.014493</td>\n",
       "      <td>11</td>\n",
       "    </tr>\n",
       "    <tr>\n",
       "      <th>12</th>\n",
       "      <td>842.156627</td>\n",
       "      <td>12</td>\n",
       "    </tr>\n",
       "  </tbody>\n",
       "</table>\n",
       "</div>"
      ],
      "text/plain": [
       "         pressure  month\n",
       "month                   \n",
       "1      862.488506      1\n",
       "2      889.455056      2\n",
       "3      877.322917      3\n",
       "4      806.329897      4\n",
       "5      748.557047      5\n",
       "6      745.054422      6\n",
       "7      795.105634      7\n",
       "8      873.829787      8\n",
       "9      913.305970      9\n",
       "10     887.312500     10\n",
       "11     857.014493     11\n",
       "12     842.156627     12"
      ]
     },
     "execution_count": 70,
     "metadata": {},
     "output_type": "execute_result"
    }
   ],
   "source": [
    "avg_press_by_month=pd.DataFrame(avg_press_by_month)\n",
    "avg_press_by_month['month'] = range(1, len(avg_press_by_month) +1)\n",
    "avg_press_by_month"
   ]
  },
  {
   "cell_type": "code",
   "execution_count": 71,
   "metadata": {},
   "outputs": [
    {
     "data": {
      "image/png": "[encoded data removed]",
      "text/plain": [
       "<Figure size 640x480 with 1 Axes>"
      ]
     },
     "metadata": {},
     "output_type": "display_data"
    }
   ],
   "source": [
    "# Plot the average pressure by month\n",
    "plt.bar(avg_press_by_month['month'], avg_press_by_month['pressure'], color = 'blue', alpha = 0.3)\n",
    "# Add titles and labels\n",
    "plt.title('Average Pressure by Month')\n",
    "plt.xlabel('month')\n",
    "plt.ylabel('Atmospheric Pressure')\n",
    "\n",
    "# Show the chart\n",
    "plt.show()"
   ]
  },
  {
   "cell_type": "code",
   "execution_count": 72,
   "metadata": {},
   "outputs": [
    {
     "data": {
      "image/png": "[encoded data removed]",
      "text/plain": [
       "<Figure size 640x480 with 1 Axes>"
      ]
     },
     "metadata": {},
     "output_type": "display_data"
    }
   ],
   "source": [
    "# Identify the lowest and highest pressure months in Curiosity's location by sorting the previous graph\n",
    "sorted_pressure_df = avg_press_by_month.sort_values(by='pressure')\n",
    "sorted_pressure_df['month']=sorted_pressure_df['month'].astype('string')\n",
    "\n",
    "\n",
    "plt.bar(sorted_pressure_df['month'], sorted_pressure_df['pressure'], color = 'blue', alpha = 0.3)\n",
    "# Add titles and labels\n",
    "plt.title('Average Pressure by Month')\n",
    "plt.xlabel('month')\n",
    "plt.ylabel('Atmospheric Pressure')\n",
    "\n",
    "# Show the chart\n",
    "plt.show()"
   ]
  },
  {
   "cell_type": "code",
   "execution_count": 75,
   "metadata": {},
   "outputs": [
    {
     "data": {
      "image/png": "[encoded data removed]",
      "text/plain": [
       "<Figure size 1200x600 with 1 Axes>"
      ]
     },
     "metadata": {},
     "output_type": "display_data"
    }
   ],
   "source": [
    "# 5. How many terrestrial (Earth) days are there in a Martian year?\n",
    "\n",
    "# Visually estimate the result by plotting the daily minimum temperature of each observation in the data set.\n",
    "# Create the line chart\n",
    "plt.figure(figsize=(12, 6))\n",
    "Mars_df['min_temp'].plot(kind = 'line')\n",
    "#plt.plot(Mars_df['terrestrial_date'], Mars_df['min_temp'], marker='o', linestyle='-')\n",
    "plt.title('Minimum Temperature over Time')\n",
    "plt.xlabel('Number of terrestrial days')\n",
    "plt.ylabel('Minimum Temperature')\n",
    "plt.grid()\n",
    "plt.tight_layout() \n",
    "plt.show()"
   ]
  },
  {
   "attachments": {},
   "cell_type": "markdown",
   "metadata": {},
   "source": [
    "#### Minimum Temperature\n",
    "\n",
    "The Minimum temperature on Mars fluctuates between approximately -83 and -68 degrees Celcius.  The 3rd month on Mars has the lowest average minimum temperature and the 8th month has the highest average minimum temperature"
   ]
  },
  {
   "attachments": {},
   "cell_type": "markdown",
   "metadata": {},
   "source": [
    "#### Atmospheric Pressure\n",
    "\n",
    "The average Atmospheric pressure on Mars fluctuates between approximately 745 and 913 Pascals.  The sixth month has the lowest average atmospheric pressure and the ninth month has the highest average atmospheric pressure.  "
   ]
  },
  {
   "attachments": {},
   "cell_type": "markdown",
   "metadata": {},
   "source": [
    "#### Year Length\n",
    "\n",
    "Using the minimum temperatue data as an approximation, I took the difference in the two 'valleys' of the data while the Curiosity rover provided data and subtracted them to get the approximate number of Earth days in a martian year.  If I do that, I get about 1100-425 = 675 Earth Days in one Mars year.   "
   ]
  },
  {
   "attachments": {},
   "cell_type": "markdown",
   "metadata": {},
   "source": [
    "### Step 6: Save the Data\n",
    "\n",
    "Export the DataFrame to a CSV file."
   ]
  },
  {
   "cell_type": "code",
   "execution_count": 77,
   "metadata": {},
   "outputs": [],
   "source": [
    "# Write the data to a CSV\n",
    "Mars_df.to_csv('mars_data.csv', sep=',')"
   ]
  },
  {
   "cell_type": "code",
   "execution_count": 76,
   "metadata": {},
   "outputs": [],
   "source": [
    "browser.quit()"
   ]
  },
  {
   "cell_type": "code",
   "execution_count": null,
   "metadata": {},
   "outputs": [],
   "source": []
  }
 ],
 "metadata": {
  "kernelspec": {
   "display_name": "Python 3 (ipykernel)",
   "language": "python",
   "name": "python3"
  },
  "language_info": {
   "codemirror_mode": {
    "name": "ipython",
    "version": 3
   },
   "file_extension": ".py",
   "mimetype": "text/x-python",
   "name": "python",
   "nbconvert_exporter": "python",
   "pygments_lexer": "ipython3",
   "version": "3.10.15"
  },
  "vscode": {
   "interpreter": {
    "hash": "31f2aee4e71d21fbe5cf8b01ff0e069b9275f58929596ceb00d14d90e3e16cd6"
   }
  }
 },
 "nbformat": 4,
 "nbformat_minor": 4
}
